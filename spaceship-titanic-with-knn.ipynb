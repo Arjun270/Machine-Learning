{
 "cells": [
  {
   "cell_type": "code",
   "execution_count": 1,
   "id": "4416a959",
   "metadata": {
    "execution": {
     "iopub.execute_input": "2023-10-21T20:01:18.973850Z",
     "iopub.status.busy": "2023-10-21T20:01:18.973265Z",
     "iopub.status.idle": "2023-10-21T20:01:19.968231Z",
     "shell.execute_reply": "2023-10-21T20:01:19.967287Z"
    },
    "papermill": {
     "duration": 1.004446,
     "end_time": "2023-10-21T20:01:19.970769",
     "exception": false,
     "start_time": "2023-10-21T20:01:18.966323",
     "status": "completed"
    },
    "tags": []
   },
   "outputs": [],
   "source": [
    "#impot libary\n",
    "import numpy as np\n",
    "import pandas as pd\n",
    "\n",
    "from sklearn.model_selection import train_test_split\n",
    "from sklearn.preprocessing import StandardScaler\n",
    "from sklearn.preprocessing import LabelEncoder\n",
    "from sklearn.neighbors import KNeighborsClassifier\n",
    "from sklearn.impute import SimpleImputer\n",
    "from sklearn import metrics\n",
    "from sklearn.model_selection import GridSearchCV\n"
   ]
  },
  {
   "cell_type": "code",
   "execution_count": 2,
   "id": "f6ea542f",
   "metadata": {
    "execution": {
     "iopub.execute_input": "2023-10-21T20:01:19.981968Z",
     "iopub.status.busy": "2023-10-21T20:01:19.981664Z",
     "iopub.status.idle": "2023-10-21T20:01:19.987862Z",
     "shell.execute_reply": "2023-10-21T20:01:19.986785Z"
    },
    "papermill": {
     "duration": 0.015509,
     "end_time": "2023-10-21T20:01:19.991533",
     "exception": false,
     "start_time": "2023-10-21T20:01:19.976024",
     "status": "completed"
    },
    "tags": []
   },
   "outputs": [
    {
     "name": "stdout",
     "output_type": "stream",
     "text": [
      "/kaggle/input/spaceship-titanic/sample_submission.csv\n",
      "/kaggle/input/spaceship-titanic/train.csv\n",
      "/kaggle/input/spaceship-titanic/test.csv\n"
     ]
    }
   ],
   "source": [
    "#import kaggle system for upload test,train,submission data\n",
    "import os\n",
    "for dirname, _, filenames in os.walk('/kaggle/input'):\n",
    "    for filename in filenames:\n",
    "        print(os.path.join(dirname, filename))"
   ]
  },
  {
   "cell_type": "code",
   "execution_count": 3,
   "id": "a14f232b",
   "metadata": {
    "execution": {
     "iopub.execute_input": "2023-10-21T20:01:20.004322Z",
     "iopub.status.busy": "2023-10-21T20:01:20.003414Z",
     "iopub.status.idle": "2023-10-21T20:01:20.069799Z",
     "shell.execute_reply": "2023-10-21T20:01:20.068887Z"
    },
    "papermill": {
     "duration": 0.074628,
     "end_time": "2023-10-21T20:01:20.071973",
     "exception": false,
     "start_time": "2023-10-21T20:01:19.997345",
     "status": "completed"
    },
    "tags": []
   },
   "outputs": [],
   "source": [
    "#read train data\n",
    "train = pd.read_csv(\"/kaggle/input/spaceship-titanic/train.csv\")\n",
    "#read test data\n",
    "test = pd.read_csv(\"/kaggle/input/spaceship-titanic/test.csv\")\n",
    "#read submission data\n",
    "submission = pd.read_csv(\"/kaggle/input/spaceship-titanic/sample_submission.csv\")\n",
    "\n"
   ]
  },
  {
   "cell_type": "code",
   "execution_count": 4,
   "id": "19800c83",
   "metadata": {
    "execution": {
     "iopub.execute_input": "2023-10-21T20:01:20.083953Z",
     "iopub.status.busy": "2023-10-21T20:01:20.083068Z",
     "iopub.status.idle": "2023-10-21T20:01:20.109629Z",
     "shell.execute_reply": "2023-10-21T20:01:20.108635Z"
    },
    "papermill": {
     "duration": 0.03436,
     "end_time": "2023-10-21T20:01:20.111501",
     "exception": false,
     "start_time": "2023-10-21T20:01:20.077141",
     "status": "completed"
    },
    "tags": []
   },
   "outputs": [
    {
     "data": {
      "text/html": [
       "<div>\n",
       "<style scoped>\n",
       "    .dataframe tbody tr th:only-of-type {\n",
       "        vertical-align: middle;\n",
       "    }\n",
       "\n",
       "    .dataframe tbody tr th {\n",
       "        vertical-align: top;\n",
       "    }\n",
       "\n",
       "    .dataframe thead th {\n",
       "        text-align: right;\n",
       "    }\n",
       "</style>\n",
       "<table border=\"1\" class=\"dataframe\">\n",
       "  <thead>\n",
       "    <tr style=\"text-align: right;\">\n",
       "      <th></th>\n",
       "      <th>PassengerId</th>\n",
       "      <th>HomePlanet</th>\n",
       "      <th>CryoSleep</th>\n",
       "      <th>Cabin</th>\n",
       "      <th>Destination</th>\n",
       "      <th>Age</th>\n",
       "      <th>VIP</th>\n",
       "      <th>RoomService</th>\n",
       "      <th>FoodCourt</th>\n",
       "      <th>ShoppingMall</th>\n",
       "      <th>Spa</th>\n",
       "      <th>VRDeck</th>\n",
       "      <th>Name</th>\n",
       "      <th>Transported</th>\n",
       "    </tr>\n",
       "  </thead>\n",
       "  <tbody>\n",
       "    <tr>\n",
       "      <th>0</th>\n",
       "      <td>0001_01</td>\n",
       "      <td>Europa</td>\n",
       "      <td>False</td>\n",
       "      <td>B/0/P</td>\n",
       "      <td>TRAPPIST-1e</td>\n",
       "      <td>39.0</td>\n",
       "      <td>False</td>\n",
       "      <td>0.0</td>\n",
       "      <td>0.0</td>\n",
       "      <td>0.0</td>\n",
       "      <td>0.0</td>\n",
       "      <td>0.0</td>\n",
       "      <td>Maham Ofracculy</td>\n",
       "      <td>False</td>\n",
       "    </tr>\n",
       "    <tr>\n",
       "      <th>1</th>\n",
       "      <td>0002_01</td>\n",
       "      <td>Earth</td>\n",
       "      <td>False</td>\n",
       "      <td>F/0/S</td>\n",
       "      <td>TRAPPIST-1e</td>\n",
       "      <td>24.0</td>\n",
       "      <td>False</td>\n",
       "      <td>109.0</td>\n",
       "      <td>9.0</td>\n",
       "      <td>25.0</td>\n",
       "      <td>549.0</td>\n",
       "      <td>44.0</td>\n",
       "      <td>Juanna Vines</td>\n",
       "      <td>True</td>\n",
       "    </tr>\n",
       "    <tr>\n",
       "      <th>2</th>\n",
       "      <td>0003_01</td>\n",
       "      <td>Europa</td>\n",
       "      <td>False</td>\n",
       "      <td>A/0/S</td>\n",
       "      <td>TRAPPIST-1e</td>\n",
       "      <td>58.0</td>\n",
       "      <td>True</td>\n",
       "      <td>43.0</td>\n",
       "      <td>3576.0</td>\n",
       "      <td>0.0</td>\n",
       "      <td>6715.0</td>\n",
       "      <td>49.0</td>\n",
       "      <td>Altark Susent</td>\n",
       "      <td>False</td>\n",
       "    </tr>\n",
       "    <tr>\n",
       "      <th>3</th>\n",
       "      <td>0003_02</td>\n",
       "      <td>Europa</td>\n",
       "      <td>False</td>\n",
       "      <td>A/0/S</td>\n",
       "      <td>TRAPPIST-1e</td>\n",
       "      <td>33.0</td>\n",
       "      <td>False</td>\n",
       "      <td>0.0</td>\n",
       "      <td>1283.0</td>\n",
       "      <td>371.0</td>\n",
       "      <td>3329.0</td>\n",
       "      <td>193.0</td>\n",
       "      <td>Solam Susent</td>\n",
       "      <td>False</td>\n",
       "    </tr>\n",
       "    <tr>\n",
       "      <th>4</th>\n",
       "      <td>0004_01</td>\n",
       "      <td>Earth</td>\n",
       "      <td>False</td>\n",
       "      <td>F/1/S</td>\n",
       "      <td>TRAPPIST-1e</td>\n",
       "      <td>16.0</td>\n",
       "      <td>False</td>\n",
       "      <td>303.0</td>\n",
       "      <td>70.0</td>\n",
       "      <td>151.0</td>\n",
       "      <td>565.0</td>\n",
       "      <td>2.0</td>\n",
       "      <td>Willy Santantines</td>\n",
       "      <td>True</td>\n",
       "    </tr>\n",
       "  </tbody>\n",
       "</table>\n",
       "</div>"
      ],
      "text/plain": [
       "  PassengerId HomePlanet CryoSleep  Cabin  Destination   Age    VIP  \\\n",
       "0     0001_01     Europa     False  B/0/P  TRAPPIST-1e  39.0  False   \n",
       "1     0002_01      Earth     False  F/0/S  TRAPPIST-1e  24.0  False   \n",
       "2     0003_01     Europa     False  A/0/S  TRAPPIST-1e  58.0   True   \n",
       "3     0003_02     Europa     False  A/0/S  TRAPPIST-1e  33.0  False   \n",
       "4     0004_01      Earth     False  F/1/S  TRAPPIST-1e  16.0  False   \n",
       "\n",
       "   RoomService  FoodCourt  ShoppingMall     Spa  VRDeck               Name  \\\n",
       "0          0.0        0.0           0.0     0.0     0.0    Maham Ofracculy   \n",
       "1        109.0        9.0          25.0   549.0    44.0       Juanna Vines   \n",
       "2         43.0     3576.0           0.0  6715.0    49.0      Altark Susent   \n",
       "3          0.0     1283.0         371.0  3329.0   193.0       Solam Susent   \n",
       "4        303.0       70.0         151.0   565.0     2.0  Willy Santantines   \n",
       "\n",
       "   Transported  \n",
       "0        False  \n",
       "1         True  \n",
       "2        False  \n",
       "3        False  \n",
       "4         True  "
      ]
     },
     "execution_count": 4,
     "metadata": {},
     "output_type": "execute_result"
    }
   ],
   "source": [
    "train.head()"
   ]
  },
  {
   "cell_type": "code",
   "execution_count": 5,
   "id": "cf719002",
   "metadata": {
    "execution": {
     "iopub.execute_input": "2023-10-21T20:01:20.122736Z",
     "iopub.status.busy": "2023-10-21T20:01:20.122447Z",
     "iopub.status.idle": "2023-10-21T20:01:20.143056Z",
     "shell.execute_reply": "2023-10-21T20:01:20.141889Z"
    },
    "papermill": {
     "duration": 0.028798,
     "end_time": "2023-10-21T20:01:20.145388",
     "exception": false,
     "start_time": "2023-10-21T20:01:20.116590",
     "status": "completed"
    },
    "tags": []
   },
   "outputs": [
    {
     "name": "stdout",
     "output_type": "stream",
     "text": [
      "<class 'pandas.core.frame.DataFrame'>\n",
      "RangeIndex: 8693 entries, 0 to 8692\n",
      "Data columns (total 14 columns):\n",
      " #   Column        Non-Null Count  Dtype  \n",
      "---  ------        --------------  -----  \n",
      " 0   PassengerId   8693 non-null   object \n",
      " 1   HomePlanet    8492 non-null   object \n",
      " 2   CryoSleep     8476 non-null   object \n",
      " 3   Cabin         8494 non-null   object \n",
      " 4   Destination   8511 non-null   object \n",
      " 5   Age           8514 non-null   float64\n",
      " 6   VIP           8490 non-null   object \n",
      " 7   RoomService   8512 non-null   float64\n",
      " 8   FoodCourt     8510 non-null   float64\n",
      " 9   ShoppingMall  8485 non-null   float64\n",
      " 10  Spa           8510 non-null   float64\n",
      " 11  VRDeck        8505 non-null   float64\n",
      " 12  Name          8493 non-null   object \n",
      " 13  Transported   8693 non-null   bool   \n",
      "dtypes: bool(1), float64(6), object(7)\n",
      "memory usage: 891.5+ KB\n"
     ]
    }
   ],
   "source": [
    "train.info()"
   ]
  },
  {
   "cell_type": "code",
   "execution_count": 6,
   "id": "d9391418",
   "metadata": {
    "execution": {
     "iopub.execute_input": "2023-10-21T20:01:20.157606Z",
     "iopub.status.busy": "2023-10-21T20:01:20.156783Z",
     "iopub.status.idle": "2023-10-21T20:01:20.175241Z",
     "shell.execute_reply": "2023-10-21T20:01:20.174334Z"
    },
    "papermill": {
     "duration": 0.025934,
     "end_time": "2023-10-21T20:01:20.176923",
     "exception": false,
     "start_time": "2023-10-21T20:01:20.150989",
     "status": "completed"
    },
    "tags": []
   },
   "outputs": [
    {
     "data": {
      "text/plain": [
       "PassengerId     8693\n",
       "HomePlanet         3\n",
       "CryoSleep          2\n",
       "Cabin           6560\n",
       "Destination        3\n",
       "Age               80\n",
       "VIP                2\n",
       "RoomService     1273\n",
       "FoodCourt       1507\n",
       "ShoppingMall    1115\n",
       "Spa             1327\n",
       "VRDeck          1306\n",
       "Name            8473\n",
       "Transported        2\n",
       "dtype: int64"
      ]
     },
     "execution_count": 6,
     "metadata": {},
     "output_type": "execute_result"
    }
   ],
   "source": [
    "train.nunique()"
   ]
  },
  {
   "cell_type": "code",
   "execution_count": 7,
   "id": "685c30e2",
   "metadata": {
    "execution": {
     "iopub.execute_input": "2023-10-21T20:01:20.188615Z",
     "iopub.status.busy": "2023-10-21T20:01:20.188306Z",
     "iopub.status.idle": "2023-10-21T20:01:20.196548Z",
     "shell.execute_reply": "2023-10-21T20:01:20.195612Z"
    },
    "papermill": {
     "duration": 0.015922,
     "end_time": "2023-10-21T20:01:20.198131",
     "exception": false,
     "start_time": "2023-10-21T20:01:20.182209",
     "status": "completed"
    },
    "tags": []
   },
   "outputs": [
    {
     "data": {
      "text/plain": [
       "0          B/0/P\n",
       "1          F/0/S\n",
       "2          A/0/S\n",
       "3          A/0/S\n",
       "4          F/1/S\n",
       "          ...   \n",
       "8688      A/98/P\n",
       "8689    G/1499/S\n",
       "8690    G/1500/S\n",
       "8691     E/608/S\n",
       "8692     E/608/S\n",
       "Name: Cabin, Length: 8693, dtype: object"
      ]
     },
     "execution_count": 7,
     "metadata": {},
     "output_type": "execute_result"
    }
   ],
   "source": [
    "train['Cabin']"
   ]
  },
  {
   "cell_type": "code",
   "execution_count": 8,
   "id": "35000579",
   "metadata": {
    "execution": {
     "iopub.execute_input": "2023-10-21T20:01:20.210697Z",
     "iopub.status.busy": "2023-10-21T20:01:20.210385Z",
     "iopub.status.idle": "2023-10-21T20:01:20.214766Z",
     "shell.execute_reply": "2023-10-21T20:01:20.213972Z"
    },
    "papermill": {
     "duration": 0.013141,
     "end_time": "2023-10-21T20:01:20.216444",
     "exception": false,
     "start_time": "2023-10-21T20:01:20.203303",
     "status": "completed"
    },
    "tags": []
   },
   "outputs": [],
   "source": [
    "cat_cols = [\"HomePlanet\",\"CryoSleep\",\"Cabin\",\"Destination\", \"VIP\"]\n",
    "cont_cols = [\"Age\", \"RoomService\", \"FoodCourt\", \"ShoppingMall\", \"Spa\", \"VRDeck\"]"
   ]
  },
  {
   "cell_type": "code",
   "execution_count": 9,
   "id": "95c37501",
   "metadata": {
    "execution": {
     "iopub.execute_input": "2023-10-21T20:01:20.228318Z",
     "iopub.status.busy": "2023-10-21T20:01:20.227966Z",
     "iopub.status.idle": "2023-10-21T20:01:20.241061Z",
     "shell.execute_reply": "2023-10-21T20:01:20.239854Z"
    },
    "papermill": {
     "duration": 0.021388,
     "end_time": "2023-10-21T20:01:20.243008",
     "exception": false,
     "start_time": "2023-10-21T20:01:20.221620",
     "status": "completed"
    },
    "tags": []
   },
   "outputs": [
    {
     "name": "stdout",
     "output_type": "stream",
     "text": [
      "<class 'pandas.core.frame.DataFrame'>\n",
      "RangeIndex: 8693 entries, 0 to 8692\n",
      "Data columns (total 14 columns):\n",
      " #   Column        Non-Null Count  Dtype  \n",
      "---  ------        --------------  -----  \n",
      " 0   PassengerId   8693 non-null   object \n",
      " 1   HomePlanet    8492 non-null   object \n",
      " 2   CryoSleep     8476 non-null   object \n",
      " 3   Cabin         8494 non-null   object \n",
      " 4   Destination   8511 non-null   object \n",
      " 5   Age           8514 non-null   float64\n",
      " 6   VIP           8490 non-null   object \n",
      " 7   RoomService   8512 non-null   float64\n",
      " 8   FoodCourt     8510 non-null   float64\n",
      " 9   ShoppingMall  8485 non-null   float64\n",
      " 10  Spa           8510 non-null   float64\n",
      " 11  VRDeck        8505 non-null   float64\n",
      " 12  Name          8493 non-null   object \n",
      " 13  Transported   8693 non-null   bool   \n",
      "dtypes: bool(1), float64(6), object(7)\n",
      "memory usage: 891.5+ KB\n"
     ]
    }
   ],
   "source": [
    "train.info()"
   ]
  },
  {
   "cell_type": "code",
   "execution_count": 10,
   "id": "6d04097b",
   "metadata": {
    "execution": {
     "iopub.execute_input": "2023-10-21T20:01:20.254903Z",
     "iopub.status.busy": "2023-10-21T20:01:20.254618Z",
     "iopub.status.idle": "2023-10-21T20:01:20.258838Z",
     "shell.execute_reply": "2023-10-21T20:01:20.258039Z"
    },
    "papermill": {
     "duration": 0.011937,
     "end_time": "2023-10-21T20:01:20.260405",
     "exception": false,
     "start_time": "2023-10-21T20:01:20.248468",
     "status": "completed"
    },
    "tags": []
   },
   "outputs": [],
   "source": [
    "simp_num = SimpleImputer(missing_values = np.nan, strategy = \"mean\")\n",
    "simp_cat = SimpleImputer(missing_values = np.nan, strategy = \"most_frequent\")"
   ]
  },
  {
   "cell_type": "code",
   "execution_count": 11,
   "id": "6ac6e66e",
   "metadata": {
    "execution": {
     "iopub.execute_input": "2023-10-21T20:01:20.271945Z",
     "iopub.status.busy": "2023-10-21T20:01:20.271677Z",
     "iopub.status.idle": "2023-10-21T20:01:20.294144Z",
     "shell.execute_reply": "2023-10-21T20:01:20.293222Z"
    },
    "papermill": {
     "duration": 0.030323,
     "end_time": "2023-10-21T20:01:20.296004",
     "exception": false,
     "start_time": "2023-10-21T20:01:20.265681",
     "status": "completed"
    },
    "tags": []
   },
   "outputs": [],
   "source": [
    "for col in cat_cols:\n",
    "    train[col] = simp_cat.fit_transform(train[col].values.reshape(-1,1))[:,0]\n",
    "    test[col] = simp_cat.transform(test[col].values.reshape(-1,1))[:,0]\n",
    "\n",
    "for col in cont_cols:\n",
    "    train[col] = simp_num.fit_transform(train[col].values.reshape(-1,1))[:,0]\n",
    "    test[col] = simp_num.transform(test[col].values.reshape(-1,1))[:,0]"
   ]
  },
  {
   "cell_type": "code",
   "execution_count": 12,
   "id": "d2f5e198",
   "metadata": {
    "execution": {
     "iopub.execute_input": "2023-10-21T20:01:20.307839Z",
     "iopub.status.busy": "2023-10-21T20:01:20.307589Z",
     "iopub.status.idle": "2023-10-21T20:01:20.337047Z",
     "shell.execute_reply": "2023-10-21T20:01:20.336300Z"
    },
    "papermill": {
     "duration": 0.037284,
     "end_time": "2023-10-21T20:01:20.338733",
     "exception": false,
     "start_time": "2023-10-21T20:01:20.301449",
     "status": "completed"
    },
    "tags": []
   },
   "outputs": [],
   "source": [
    "# New features - training set\n",
    "train['Deck'] = train['Cabin'].apply(lambda x: str(x).split('/')[0])\n",
    "train['Number'] = train['Cabin'].apply(lambda x:  str(x).split('/')[1]).astype(int)\n",
    "train['Side'] = train['Cabin'].apply(lambda x:  str(x).split('/')[2])\n",
    "\n",
    "# New features - test set\n",
    "test['Deck'] = test['Cabin'].apply(lambda x: str(x).split('/')[0])\n",
    "test['Number'] = test['Cabin'].apply(lambda x: str(x).split('/')[1]).astype(int)\n",
    "test['Side'] = test['Cabin'].apply(lambda x: str(x).split('/')[2])"
   ]
  },
  {
   "cell_type": "code",
   "execution_count": 13,
   "id": "4de0f57d",
   "metadata": {
    "execution": {
     "iopub.execute_input": "2023-10-21T20:01:20.350504Z",
     "iopub.status.busy": "2023-10-21T20:01:20.350229Z",
     "iopub.status.idle": "2023-10-21T20:01:20.354400Z",
     "shell.execute_reply": "2023-10-21T20:01:20.353589Z"
    },
    "papermill": {
     "duration": 0.011704,
     "end_time": "2023-10-21T20:01:20.355914",
     "exception": false,
     "start_time": "2023-10-21T20:01:20.344210",
     "status": "completed"
    },
    "tags": []
   },
   "outputs": [],
   "source": [
    "cat_cols.append('Deck')\n",
    "cat_cols.append('Side')\n",
    "cont_cols.append('Number')"
   ]
  },
  {
   "cell_type": "code",
   "execution_count": 14,
   "id": "6f5b2e83",
   "metadata": {
    "execution": {
     "iopub.execute_input": "2023-10-21T20:01:20.367353Z",
     "iopub.status.busy": "2023-10-21T20:01:20.367080Z",
     "iopub.status.idle": "2023-10-21T20:01:20.372094Z",
     "shell.execute_reply": "2023-10-21T20:01:20.371370Z"
    },
    "papermill": {
     "duration": 0.012476,
     "end_time": "2023-10-21T20:01:20.373610",
     "exception": false,
     "start_time": "2023-10-21T20:01:20.361134",
     "status": "completed"
    },
    "tags": []
   },
   "outputs": [],
   "source": [
    "def encoder(df):\n",
    "    \n",
    "    for col in cat_cols:\n",
    "        le=LabelEncoder()\n",
    "        le.fit(df[col])\n",
    "        df[col]=le.transform(df[col])\n",
    "        \n",
    "    for col in cont_cols:\n",
    "        df[col]=np.log1p(df[col])\n",
    "    \n",
    "    return df\n"
   ]
  },
  {
   "cell_type": "code",
   "execution_count": 15,
   "id": "2692faf3",
   "metadata": {
    "execution": {
     "iopub.execute_input": "2023-10-21T20:01:20.386492Z",
     "iopub.status.busy": "2023-10-21T20:01:20.386165Z",
     "iopub.status.idle": "2023-10-21T20:01:20.436987Z",
     "shell.execute_reply": "2023-10-21T20:01:20.436126Z"
    },
    "papermill": {
     "duration": 0.060015,
     "end_time": "2023-10-21T20:01:20.438818",
     "exception": false,
     "start_time": "2023-10-21T20:01:20.378803",
     "status": "completed"
    },
    "tags": []
   },
   "outputs": [],
   "source": [
    "target = train['Transported'] \n",
    "let = LabelEncoder()\n",
    "let.fit(target)\n",
    "train = encoder(train)\n",
    "test = encoder(test)"
   ]
  },
  {
   "cell_type": "code",
   "execution_count": 16,
   "id": "4e526ad8",
   "metadata": {
    "execution": {
     "iopub.execute_input": "2023-10-21T20:01:20.451193Z",
     "iopub.status.busy": "2023-10-21T20:01:20.450314Z",
     "iopub.status.idle": "2023-10-21T20:01:20.463202Z",
     "shell.execute_reply": "2023-10-21T20:01:20.462372Z"
    },
    "papermill": {
     "duration": 0.020742,
     "end_time": "2023-10-21T20:01:20.465038",
     "exception": false,
     "start_time": "2023-10-21T20:01:20.444296",
     "status": "completed"
    },
    "tags": []
   },
   "outputs": [
    {
     "data": {
      "text/plain": [
       "PassengerId     8693\n",
       "HomePlanet         3\n",
       "CryoSleep          2\n",
       "Cabin           6560\n",
       "Destination        3\n",
       "Age               81\n",
       "VIP                2\n",
       "RoomService     1274\n",
       "FoodCourt       1508\n",
       "ShoppingMall    1116\n",
       "Spa             1328\n",
       "VRDeck          1307\n",
       "Name            8473\n",
       "Transported        2\n",
       "Deck               8\n",
       "Number          1817\n",
       "Side               2\n",
       "dtype: int64"
      ]
     },
     "execution_count": 16,
     "metadata": {},
     "output_type": "execute_result"
    }
   ],
   "source": [
    "train.nunique()"
   ]
  },
  {
   "cell_type": "code",
   "execution_count": 17,
   "id": "f1de8882",
   "metadata": {
    "execution": {
     "iopub.execute_input": "2023-10-21T20:01:20.476668Z",
     "iopub.status.busy": "2023-10-21T20:01:20.476395Z",
     "iopub.status.idle": "2023-10-21T20:01:20.485700Z",
     "shell.execute_reply": "2023-10-21T20:01:20.484899Z"
    },
    "papermill": {
     "duration": 0.017329,
     "end_time": "2023-10-21T20:01:20.487678",
     "exception": false,
     "start_time": "2023-10-21T20:01:20.470349",
     "status": "completed"
    },
    "tags": []
   },
   "outputs": [],
   "source": [
    "y = let.transform(target)\n",
    "\n",
    "\n",
    "cols_to_drop = ['PassengerId', 'Cabin', 'Name','Transported']\n",
    "cols_to_drop_test = ['PassengerId', 'Cabin', 'Name']\n",
    "\n",
    "train = train.drop(cols_to_drop, axis=1)\n",
    "test = test.drop(cols_to_drop_test, axis=1)\n",
    "\n",
    "X = train.values"
   ]
  },
  {
   "cell_type": "code",
   "execution_count": 18,
   "id": "139ce661",
   "metadata": {
    "execution": {
     "iopub.execute_input": "2023-10-21T20:01:20.499913Z",
     "iopub.status.busy": "2023-10-21T20:01:20.499640Z",
     "iopub.status.idle": "2023-10-21T20:01:20.800712Z",
     "shell.execute_reply": "2023-10-21T20:01:20.799718Z"
    },
    "papermill": {
     "duration": 0.309246,
     "end_time": "2023-10-21T20:01:20.802773",
     "exception": false,
     "start_time": "2023-10-21T20:01:20.493527",
     "status": "completed"
    },
    "tags": []
   },
   "outputs": [],
   "source": [
    "classifier = KNeighborsClassifier(n_neighbors = 7, weights = 'uniform',metric = 'manhattan')\n",
    "classifier.fit(X, y)\n",
    "\n",
    "y_pred = classifier.predict(test.values)"
   ]
  },
  {
   "cell_type": "code",
   "execution_count": 19,
   "id": "57eae561",
   "metadata": {
    "execution": {
     "iopub.execute_input": "2023-10-21T20:01:20.815219Z",
     "iopub.status.busy": "2023-10-21T20:01:20.814890Z",
     "iopub.status.idle": "2023-10-21T20:01:20.820601Z",
     "shell.execute_reply": "2023-10-21T20:01:20.819769Z"
    },
    "papermill": {
     "duration": 0.01402,
     "end_time": "2023-10-21T20:01:20.822399",
     "exception": false,
     "start_time": "2023-10-21T20:01:20.808379",
     "status": "completed"
    },
    "tags": []
   },
   "outputs": [
    {
     "data": {
      "text/plain": [
       "array([0, 0, 1, ..., 1, 1, 1])"
      ]
     },
     "execution_count": 19,
     "metadata": {},
     "output_type": "execute_result"
    }
   ],
   "source": [
    "y_pred"
   ]
  },
  {
   "cell_type": "code",
   "execution_count": 20,
   "id": "a0dccd12",
   "metadata": {
    "execution": {
     "iopub.execute_input": "2023-10-21T20:01:20.835113Z",
     "iopub.status.busy": "2023-10-21T20:01:20.834778Z",
     "iopub.status.idle": "2023-10-21T20:01:20.850023Z",
     "shell.execute_reply": "2023-10-21T20:01:20.849104Z"
    },
    "papermill": {
     "duration": 0.023568,
     "end_time": "2023-10-21T20:01:20.851669",
     "exception": false,
     "start_time": "2023-10-21T20:01:20.828101",
     "status": "completed"
    },
    "tags": []
   },
   "outputs": [
    {
     "data": {
      "text/plain": [
       "array(['False', 'False', 'True', ..., 'True', 'True', 'True'], dtype='<U5')"
      ]
     },
     "execution_count": 20,
     "metadata": {},
     "output_type": "execute_result"
    }
   ],
   "source": [
    "y_pred = y_pred.astype(str)\n",
    "y_pred = np.char.replace(y_pred, '0', 'False')\n",
    "y_pred = np.char.replace(y_pred, '1', 'True') \n",
    "y_pred"
   ]
  },
  {
   "cell_type": "code",
   "execution_count": 21,
   "id": "1e5c981e",
   "metadata": {
    "execution": {
     "iopub.execute_input": "2023-10-21T20:01:20.864611Z",
     "iopub.status.busy": "2023-10-21T20:01:20.864254Z",
     "iopub.status.idle": "2023-10-21T20:01:20.884678Z",
     "shell.execute_reply": "2023-10-21T20:01:20.883991Z"
    },
    "papermill": {
     "duration": 0.028974,
     "end_time": "2023-10-21T20:01:20.886484",
     "exception": false,
     "start_time": "2023-10-21T20:01:20.857510",
     "status": "completed"
    },
    "tags": []
   },
   "outputs": [
    {
     "data": {
      "text/html": [
       "<div>\n",
       "<style scoped>\n",
       "    .dataframe tbody tr th:only-of-type {\n",
       "        vertical-align: middle;\n",
       "    }\n",
       "\n",
       "    .dataframe tbody tr th {\n",
       "        vertical-align: top;\n",
       "    }\n",
       "\n",
       "    .dataframe thead th {\n",
       "        text-align: right;\n",
       "    }\n",
       "</style>\n",
       "<table border=\"1\" class=\"dataframe\">\n",
       "  <thead>\n",
       "    <tr style=\"text-align: right;\">\n",
       "      <th></th>\n",
       "      <th>PassengerId</th>\n",
       "      <th>Transported</th>\n",
       "    </tr>\n",
       "  </thead>\n",
       "  <tbody>\n",
       "    <tr>\n",
       "      <th>0</th>\n",
       "      <td>0013_01</td>\n",
       "      <td>False</td>\n",
       "    </tr>\n",
       "    <tr>\n",
       "      <th>1</th>\n",
       "      <td>0018_01</td>\n",
       "      <td>False</td>\n",
       "    </tr>\n",
       "    <tr>\n",
       "      <th>2</th>\n",
       "      <td>0019_01</td>\n",
       "      <td>True</td>\n",
       "    </tr>\n",
       "    <tr>\n",
       "      <th>3</th>\n",
       "      <td>0021_01</td>\n",
       "      <td>True</td>\n",
       "    </tr>\n",
       "    <tr>\n",
       "      <th>4</th>\n",
       "      <td>0023_01</td>\n",
       "      <td>True</td>\n",
       "    </tr>\n",
       "    <tr>\n",
       "      <th>...</th>\n",
       "      <td>...</td>\n",
       "      <td>...</td>\n",
       "    </tr>\n",
       "    <tr>\n",
       "      <th>4272</th>\n",
       "      <td>9266_02</td>\n",
       "      <td>True</td>\n",
       "    </tr>\n",
       "    <tr>\n",
       "      <th>4273</th>\n",
       "      <td>9269_01</td>\n",
       "      <td>False</td>\n",
       "    </tr>\n",
       "    <tr>\n",
       "      <th>4274</th>\n",
       "      <td>9271_01</td>\n",
       "      <td>True</td>\n",
       "    </tr>\n",
       "    <tr>\n",
       "      <th>4275</th>\n",
       "      <td>9273_01</td>\n",
       "      <td>True</td>\n",
       "    </tr>\n",
       "    <tr>\n",
       "      <th>4276</th>\n",
       "      <td>9277_01</td>\n",
       "      <td>True</td>\n",
       "    </tr>\n",
       "  </tbody>\n",
       "</table>\n",
       "<p>4277 rows × 2 columns</p>\n",
       "</div>"
      ],
      "text/plain": [
       "     PassengerId  Transported\n",
       "0        0013_01        False\n",
       "1        0018_01        False\n",
       "2        0019_01         True\n",
       "3        0021_01         True\n",
       "4        0023_01         True\n",
       "...          ...          ...\n",
       "4272     9266_02         True\n",
       "4273     9269_01        False\n",
       "4274     9271_01         True\n",
       "4275     9273_01         True\n",
       "4276     9277_01         True\n",
       "\n",
       "[4277 rows x 2 columns]"
      ]
     },
     "execution_count": 21,
     "metadata": {},
     "output_type": "execute_result"
    }
   ],
   "source": [
    "submission['Transported'] = y_pred\n",
    "submission.to_csv('submission.csv', index=False)\n",
    "my_submission = pd.read_csv(\"submission.csv\")\n",
    "my_submission"
   ]
  },
  {
   "cell_type": "code",
   "execution_count": null,
   "id": "ffc3592a",
   "metadata": {
    "papermill": {
     "duration": 0.00553,
     "end_time": "2023-10-21T20:01:20.898162",
     "exception": false,
     "start_time": "2023-10-21T20:01:20.892632",
     "status": "completed"
    },
    "tags": []
   },
   "outputs": [],
   "source": []
  }
 ],
 "metadata": {
  "kernelspec": {
   "display_name": "Python 3",
   "language": "python",
   "name": "python3"
  },
  "language_info": {
   "codemirror_mode": {
    "name": "ipython",
    "version": 3
   },
   "file_extension": ".py",
   "mimetype": "text/x-python",
   "name": "python",
   "nbconvert_exporter": "python",
   "pygments_lexer": "ipython3",
   "version": "3.7.12"
  },
  "papermill": {
   "default_parameters": {},
   "duration": 10.07009,
   "end_time": "2023-10-21T20:01:21.521492",
   "environment_variables": {},
   "exception": null,
   "input_path": "__notebook__.ipynb",
   "output_path": "__notebook__.ipynb",
   "parameters": {},
   "start_time": "2023-10-21T20:01:11.451402",
   "version": "2.3.4"
  }
 },
 "nbformat": 4,
 "nbformat_minor": 5
}
